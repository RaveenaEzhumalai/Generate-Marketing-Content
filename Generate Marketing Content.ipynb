{
 "cells": [
  {
   "cell_type": "code",
   "execution_count": null,
   "id": "ad857dd7",
   "metadata": {},
   "outputs": [],
   "source": [
    "# Generate Marketing Content"
   ]
  },
  {
   "cell_type": "code",
   "execution_count": 1,
   "id": "cd1495d7",
   "metadata": {},
   "outputs": [
    {
     "name": "stdout",
     "output_type": "stream",
     "text": [
      "Enter the topic: Generative AI\n",
      "Enter the desired format (e.g., 'linkedin post'): linkedin post\n",
      "\n",
      "Generated Content:\n",
      " Excited to share insights on Generative AI! 🚀 With its innovative capabilities, Generative AI is revolutionizing various industries, from creative arts to healthcare. Its potential to generate realistic images, text, and even music is reshaping the way we create and interact with technology. Let's explore the endless possibilities and opportunities this cutting-edge technology offers. #GenerativeAI #Innovation #TechRevolution 🤖💡\n"
     ]
    }
   ],
   "source": [
    "import random\n",
    "\n",
    "class MarketingContentGenerator:\n",
    "    def __init__(self):\n",
    "        # Sample templates for different formats\n",
    "        self.templates = {\n",
    "            \"linkedin post\": \"Excited to share insights on {topic}! 🚀 With its innovative capabilities, {topic} is revolutionizing various industries, from creative arts to healthcare. Its potential to generate realistic images, text, and even music is reshaping the way we create and interact with technology. Let's explore the endless possibilities and opportunities this cutting-edge technology offers. #GenerativeAI #Innovation #TechRevolution 🤖💡\"\n",
    "        }\n",
    "        # Emotion-related phrases\n",
    "        self.emotions = [\n",
    "            \"Excited\",\n",
    "            \"Thrilled\",\n",
    "            \"Inspired\",\n",
    "            \"Passionate\",\n",
    "            \"Curious\",\n",
    "            \"Eager\"\n",
    "        ]\n",
    "\n",
    "    def generate_content(self, topic, format_type, emotion=None):\n",
    "        \"\"\"\n",
    "        Generates marketing content based on the input topic and format.\n",
    "\n",
    "        Args:\n",
    "            topic (str): The main topic for the content.\n",
    "            format_type (str): The desired format (e.g., \"linkedin post\").\n",
    "            emotion (str, optional): Emotion to add to the content. Defaults to None.\n",
    "\n",
    "        Returns:\n",
    "            str: Generated marketing content.\n",
    "        \"\"\"\n",
    "        if format_type not in self.templates:\n",
    "            return \"Invalid format type. Please choose a valid format.\"\n",
    "\n",
    "        # Choose a random emotion if not provided\n",
    "        if emotion is None:\n",
    "            emotion = random.choice(self.emotions)\n",
    "\n",
    "        # Fill in the template with the topic and emotion\n",
    "        content = self.templates[format_type].format(topic=topic)\n",
    "\n",
    "        return content\n",
    "\n",
    "if __name__ == \"__main__\":\n",
    "    generator = MarketingContentGenerator()\n",
    "    input_topic = input(\"Enter the topic: \")\n",
    "    input_format = input(\"Enter the desired format (e.g., 'linkedin post'): \")\n",
    "    generated_content = generator.generate_content(input_topic, input_format)\n",
    "    print(\"\\nGenerated Content:\\n\", generated_content)"
   ]
  }
 ],
 "metadata": {
  "kernelspec": {
   "display_name": "Python 3 (ipykernel)",
   "language": "python",
   "name": "python3"
  },
  "language_info": {
   "codemirror_mode": {
    "name": "ipython",
    "version": 3
   },
   "file_extension": ".py",
   "mimetype": "text/x-python",
   "name": "python",
   "nbconvert_exporter": "python",
   "pygments_lexer": "ipython3",
   "version": "3.9.13"
  }
 },
 "nbformat": 4,
 "nbformat_minor": 5
}
